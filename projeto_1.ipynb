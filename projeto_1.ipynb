{
 "cells": [
  {
   "cell_type": "markdown",
   "metadata": {
    "jupyter": {
     "source_hidden": true
    }
   },
   "source": [
    "# Passo a passo do problema\n",
    "- passo 1 : buscar dados das ações automaticamente \n",
    "- passo 2 : realizar as análises solicitadas pelo gestor \n",
    "- passo 3 : enviar automaticamente o emil com o resultado das analises \n",
    "\n",
    "## Passo 1 "
   ]
  },
  {
   "cell_type": "code",
   "execution_count": null,
   "metadata": {},
   "outputs": [],
   "source": [
    "import yfinance as yf"
   ]
  },
  {
   "cell_type": "code",
   "execution_count": null,
   "metadata": {},
   "outputs": [],
   "source": [
    "valor_ticker=input(\"digite o codigo do ticker\")\n",
    "dados=yf.Ticker(valor_ticker).history(\"6mo\")\n",
    "fechamento=dados.Close\n",
    "fechamento"
   ]
  },
  {
   "cell_type": "code",
   "execution_count": null,
   "metadata": {},
   "outputs": [],
   "source": [
    "fechamento.plot()"
   ]
  },
  {
   "cell_type": "markdown",
   "metadata": {},
   "source": [
    "## Passo 2 - Realizar analises solicitadas pelo gestor \n",
    "  - Cotação maxima \n",
    "  - Cotação minima\n",
    "  - cotação atual"
   ]
  },
  {
   "cell_type": "code",
   "execution_count": null,
   "metadata": {},
   "outputs": [],
   "source": [
    "maxima= round(fechamento.max(),2)\n",
    "minima=round(fechamento.min() ,2)\n",
    "dia  = round (fechamento [-1], 2)"
   ]
  },
  {
   "cell_type": "code",
   "execution_count": null,
   "metadata": {},
   "outputs": [],
   "source": [
    "\n",
    "print (maxima)\n",
    "print (minima)\n",
    "print (dia)"
   ]
  },
  {
   "cell_type": "code",
   "execution_count": null,
   "metadata": {},
   "outputs": [],
   "source": [
    "import pyautogui\n",
    "import pyperclip"
   ]
  },
  {
   "cell_type": "code",
   "execution_count": null,
   "metadata": {},
   "outputs": [],
   "source": [
    "# abrindo uma aba \n",
    "pyautogui.hotkey(\"ctrl\",\"t\")\n",
    "\n",
    "# entrando no gmail\n",
    "pyperclip.copy(\"www.gmail.com\")\n",
    "pyautogui.hotkey(\"ctrl\",\"v\")\n",
    "pyautogui.hotkey(\"enter\")\n",
    "\n",
    "# dando uma pusa entre as tarefas \n",
    "pyautogui.PAUSE = 4 \n",
    "\n",
    "# clicar no botão escrever  \n",
    "pyautogui.click(x=64, y=219)\n",
    "\n",
    "# digitar detinatario (tab)\n",
    "pyperclip.copy(\"marcos.fabiano77@gmail.com\")\n",
    "pyautogui.hotkey(\"ctrl\",\"v\")\n",
    "pyautogui.hotkey(\"tab\")\n",
    "\n",
    "# preencher o assunto\n",
    "pyperclip.copy(\"Analises Diarias \")\n",
    "pyautogui.hotkey(\"ctrl\",\"v\")\n",
    "pyautogui.hotkey(\"tab\")\n",
    "\n",
    "\n",
    "\n",
    "# preenche o corpo do email\n",
    "mensagem = f\"\"\" \n",
    "  Prezado gestor ,\n",
    "   Seguem  como solicitado as análises dos últimos 6 meses das ações da Petrobras: {valor_ticker}\n",
    "   Cotação máxima : {maxima}\n",
    "   Cotação mínima : {minima}\n",
    "   cotação atual :  {dia }\n",
    "\n",
    "   Qualquer dúvida fico a disposição !\n",
    "   att.\n",
    "   Marcos Fabiano\n",
    "   \"\"\"\n",
    "pyperclip.copy(mensagem)\n",
    "\n",
    "pyautogui.hotkey(\"ctrl\",\"v\")\n",
    "pyautogui.click(x=855, y=687)\n",
    "\n"
   ]
  },
  {
   "cell_type": "code",
   "execution_count": null,
   "metadata": {},
   "outputs": [],
   "source": []
  },
  {
   "cell_type": "code",
   "execution_count": null,
   "metadata": {},
   "outputs": [],
   "source": []
  },
  {
   "cell_type": "code",
   "execution_count": null,
   "metadata": {},
   "outputs": [],
   "source": []
  },
  {
   "cell_type": "code",
   "execution_count": null,
   "metadata": {},
   "outputs": [],
   "source": []
  },
  {
   "cell_type": "code",
   "execution_count": null,
   "metadata": {},
   "outputs": [],
   "source": []
  },
  {
   "cell_type": "code",
   "execution_count": null,
   "metadata": {},
   "outputs": [],
   "source": []
  }
 ],
 "metadata": {
  "kernelspec": {
   "display_name": "Python 3 (ipykernel)",
   "language": "python",
   "name": "python3"
  },
  "language_info": {
   "codemirror_mode": {
    "name": "ipython",
    "version": 3
   },
   "file_extension": ".py",
   "mimetype": "text/x-python",
   "name": "python",
   "nbconvert_exporter": "python",
   "pygments_lexer": "ipython3",
   "version": "3.11.7"
  }
 },
 "nbformat": 4,
 "nbformat_minor": 4
}
